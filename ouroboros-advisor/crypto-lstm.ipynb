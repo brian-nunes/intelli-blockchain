{
 "cells": [
  {
   "cell_type": "code",
   "execution_count": null,
   "metadata": {
    "collapsed": false,
    "execution": {
     "iopub.execute_input": "2022-06-11T22:09:28.567470Z",
     "iopub.status.busy": "2022-06-11T22:09:28.567193Z",
     "iopub.status.idle": "2022-06-11T22:09:38.739653Z",
     "shell.execute_reply": "2022-06-11T22:09:38.739414Z"
    },
    "pycharm": {
     "name": "#%%\n"
    }
   },
   "outputs": [],
   "source": [
    "import yfinance as yf\n",
    "import matplotlib.pyplot as plt\n",
    "import matplotlib.dates as mdates\n",
    "import numpy as np\n",
    "import pandas as pd\n",
    "from tensorflow import keras\n",
    "from pandas.plotting import register_matplotlib_converters\n",
    "import datetime as dt"
   ]
  },
  {
   "cell_type": "code",
   "execution_count": null,
   "metadata": {},
   "outputs": [],
   "source": [
    "def extract_crypto_history(crypto, csv_path):\n",
    "    ticker = yf.Ticker(crypto)\n",
    "    data = ticker.history(period=\"max\", interval=\"1d\")\n",
    "    # Sort the dataframe according to the date\n",
    "    data.sort_values('Date', inplace=True, ascending=True)\n",
    "    data.to_csv(csv_path)\n",
    "    return data"
   ]
  },
  {
   "cell_type": "code",
   "execution_count": null,
   "metadata": {
    "execution": {
     "iopub.execute_input": "2022-06-11T22:09:38.741232Z",
     "iopub.status.busy": "2022-06-11T22:09:38.741151Z",
     "iopub.status.idle": "2022-06-11T22:09:38.743906Z",
     "shell.execute_reply": "2022-06-11T22:09:38.743596Z"
    },
    "pycharm": {
     "name": "#%%\n"
    }
   },
   "outputs": [],
   "source": [
    "def create_dataset(X, y, time_steps=1):\n",
    "    Xs, ys = [], []\n",
    "    for i in range(len(X) - time_steps):\n",
    "        v = X.iloc[i:(i + time_steps)]\n",
    "        Xs.append(v)\n",
    "        ys.append(y.iloc[i + time_steps])\n",
    "    return np.array(Xs), np.array(ys)\n",
    "\n",
    "def create_pred_dataset(X, time_steps=1):\n",
    "    Xs = []\n",
    "    for i in range(len(X) - time_steps):\n",
    "        v = X[i:(i + time_steps)]\n",
    "        Xs.append(v)\n",
    "    return np.array(Xs)\n",
    "    "
   ]
  },
  {
   "cell_type": "code",
   "execution_count": null,
   "metadata": {},
   "outputs": [],
   "source": [
    "def plot_price(data, price_path, shouldPlot = False):\n",
    "    plt.figure(num=None, figsize=(7, 4), dpi=300, facecolor='w', edgecolor='k')\n",
    "    days = mdates.drange(data.index.min(), data.index.max() + dt.timedelta(days=1), dt.timedelta(days=1))\n",
    "    plt.gca().xaxis.set_major_formatter(mdates.DateFormatter('%Y-%m-%d'))\n",
    "    plt.gca().xaxis.set_major_locator(mdates.DayLocator(interval=200))\n",
    "    if len(days) > len(data['Close']):\n",
    "        plt.plot(days[:-1], data['Close'])\n",
    "    elif len(days) < len(data['Close']):\n",
    "        plt.plot(days, data['Close'].iloc[:-1])\n",
    "    else:\n",
    "        plt.plot(days, data['Close'])\n",
    "    plt.gcf().autofmt_xdate()\n",
    "    plt.tight_layout()\n",
    "    plt.grid()\n",
    "    plt.ylabel('Close Price in USD')\n",
    "    plt.xlabel('Date')\n",
    "    plt.tight_layout()\n",
    "    plt.savefig(price_path, dpi=300)\n",
    "    if(shouldPlot):\n",
    "        plt.show()\n",
    "    plt.cla()\n",
    "    plt.clf()\n",
    "    plt.close()\n",
    "\n",
    "def plot_results(crypto, y_train, y_pred, trueFirstDate, pred_model_path, pred_model_zoom_path, shouldPlot = False):\n",
    "    # Plotting the results\n",
    "    plt.plot(np.arange(0, len(y_train)), y_train.flatten(), marker='.', markersize=1,\n",
    "             label=\"true\")\n",
    "    plt.plot(np.arange(len(y_train), len(y_train) + len(y_pred)), y_pred.flatten(), 'r', marker='.', markersize=1,\n",
    "             label=\"prediction\")\n",
    "    plt.plot(np.arange(0, len(y_train)), y_train.flatten(), 'g', marker='.', markersize=1, label=\"history\")\n",
    "    plt.ylabel('Close Price in USD')\n",
    "    plt.xlabel('Days Since ' + trueFirstDate)\n",
    "    leg = plt.legend()\n",
    "    leg_lines = leg.get_lines()\n",
    "    leg_texts = leg.get_texts()\n",
    "    plt.setp(leg_lines, linewidth=1)\n",
    "    plt.setp(leg_texts, fontsize='x-large')\n",
    "    plt.savefig(pred_model_path, dpi=300)\n",
    "    if crypto == \"EOS-USD\":\n",
    "        plt.axis([1500, 1560, 1.5, 4.2])\n",
    "        plt.savefig(pred_model_zoom_path, dpi=300)\n",
    "    elif crypto == \"BTC-USD\":\n",
    "        plt.axis([2620, 2750, 31000, 60000])\n",
    "        plt.savefig(pred_model_zoom_path, dpi=300)\n",
    "    elif crypto == \"ETH-USD\":\n",
    "        plt.axis([1500, 1600, 2200, 4000])\n",
    "        plt.savefig(pred_model_zoom_path, dpi=300)\n",
    "    elif crypto == \"DOGE-USD\":\n",
    "        plt.axis([1500, 1600, 0.09, 0.22])\n",
    "        plt.savefig(pred_model_zoom_path, dpi=300)\n",
    "    if(shouldPlot):\n",
    "        plt.show()\n",
    "    plt.cla()\n",
    "    plt.clf()\n",
    "    plt.close()\n",
    "\n",
    "def plot_loss(history, training_loss_path, shouldPlot = False):\n",
    "    plt.plot(history.history['loss'], label='train')\n",
    "    plt.legend()\n",
    "    plt.ylabel('Model Loss')\n",
    "    plt.xlabel('Number of Epochs')\n",
    "    plt.savefig(training_loss_path, dpi=300)\n",
    "    if(shouldPlot):\n",
    "        plt.show()\n",
    "    plt.cla()\n",
    "    plt.clf()\n",
    "    plt.close()\n"
   ]
  },
  {
   "cell_type": "code",
   "execution_count": null,
   "metadata": {
    "execution": {
     "iopub.execute_input": "2022-06-11T22:09:38.746211Z",
     "iopub.status.busy": "2022-06-11T22:09:38.746023Z",
     "iopub.status.idle": "2022-06-11T22:09:38.761491Z",
     "shell.execute_reply": "2022-06-11T22:09:38.761190Z"
    },
    "pycharm": {
     "name": "#%%\n"
    }
   },
   "outputs": [],
   "source": [
    "def lstm(crypto):\n",
    "    # crypto: \"EOS-USD\", \"DOGE-USD\",\"ETH-USD\", and \"BTC-USD\"\n",
    "\n",
    "    ################ Output Parameters Setup ################\n",
    "    csv_path = f\"data/{crypto}-yfinance-data.csv\"\n",
    "    pred_model_path = f\"graphics/{crypto}/{crypto}-prediction-model.pdf\"\n",
    "    pred_model_zoom_path = f\"graphics/{crypto}/{crypto}-prediction-model-zoomed.pdf\"\n",
    "    price_path = f\"graphics/{crypto}/{crypto}-price.pdf\"\n",
    "    training_loss_path = f\"graphics/{crypto}/{crypto}-training-loss.pdf\"\n",
    "    register_matplotlib_converters()\n",
    "    pred_timespan = 30\n",
    "\n",
    "\n",
    "    ####################### Data Prep #######################\n",
    "    extract_crypto_history(crypto, csv_path)\n",
    "    data = pd.read_csv(csv_path)\n",
    "    data['Date'] = pd.to_datetime(data['Date'])\n",
    "    data = data.set_index('Date')\n",
    "\n",
    "    # Visualization of data. Plotting the price close.\n",
    "    plot_price(data, price_path)\n",
    "\n",
    "    # Getting the first date available\n",
    "    firstDateFormatted = pd.to_datetime(data.index[0], utc=False)\n",
    "    date_time_obj = firstDateFormatted.to_pydatetime()\n",
    "    trueFirstDate = date_time_obj.strftime('%m/%d/%Y') # starting date\n",
    "\n",
    "    # Get Close data\n",
    "    train = data[['Close']].copy()\n",
    "\n",
    "    train_max = train.max()\n",
    "    train_min = train.min()\n",
    "\n",
    "    # Normalize the dataframes\n",
    "    train = (train - train_min) / (train_max - train_min)\n",
    "    time_steps = 30\n",
    "\n",
    "    x_train, y_train = create_dataset(train, train.Close, time_steps)\n",
    "    x_pred = x_train[-1 * pred_timespan:]\n",
    "    x_train = x_train[:len(x_train) - pred_timespan]\n",
    "    y_train = y_train[:len(y_train) - pred_timespan]\n",
    "\n",
    "    np.save(f'input/x-pred-{crypto}.npy', x_pred)\n",
    "\n",
    "\n",
    "    ####################### Training  #######################\n",
    "    model = keras.Sequential()\n",
    "    model.add(keras.layers.LSTM(250, input_shape=(x_train.shape[1], x_train.shape[2])))\n",
    "    model.add(keras.layers.Dropout(0.2))\n",
    "    model.add(keras.layers.Dense(1))\n",
    "    model.compile(loss='mae', optimizer='adam')\n",
    "    model.summary()\n",
    "\n",
    "    history = model.fit(\n",
    "        x_train, y_train,\n",
    "        epochs=100,\n",
    "        batch_size=32,\n",
    "        shuffle=False\n",
    "    )\n",
    "\n",
    "    # Plotting the loss\n",
    "    plot_loss(history, training_loss_path)\n",
    "\n",
    "\n",
    "    ###################### Prediction  ######################\n",
    "    y_pred = model.predict(x_pred)\n",
    "\n",
    "    # Rescale the data back to the original scale\n",
    "    y_pred = y_pred * (train_max[0] - train_min[0]) + train_min[0]\n",
    "    y_train = y_train * (train_max[0] - train_min[0]) + train_min[0]\n",
    "\n",
    "    # Saving the model\n",
    "    model_json = model.to_json()\n",
    "    with open(f\"model/model-{crypto}.json\", \"w\") as json_file:\n",
    "        json_file.write(model_json)\n",
    "    # serialize weights to HDF5\n",
    "    model.save_weights(f\"model/model-{crypto}.h5\")\n",
    "    print(\"Saved model to disk\")\n",
    "\n",
    "    # Plotting the results\n",
    "    plot_results(crypto, y_train, y_pred, trueFirstDate, pred_model_path, pred_model_zoom_path)\n",
    "    \n",
    "    return y_pred\n"
   ]
  },
  {
   "cell_type": "code",
   "execution_count": null,
   "metadata": {
    "collapsed": false,
    "execution": {
     "iopub.execute_input": "2022-06-11T22:09:38.763168Z",
     "iopub.status.busy": "2022-06-11T22:09:38.763089Z",
     "iopub.status.idle": "2022-06-11T22:12:36.800065Z",
     "shell.execute_reply": "2022-06-11T22:12:36.799698Z"
    },
    "pycharm": {
     "name": "#%%\n"
    }
   },
   "outputs": [],
   "source": [
    "list_of_cryptos = [\"EOS-USD\", \"BTC-USD\", \"ETH-USD\", \"DOGE-USD\"]\n",
    "for crypto in list_of_cryptos:\n",
    "    pred = lstm(crypto)"
   ]
  }
 ],
 "metadata": {
  "interpreter": {
   "hash": "c5e1398cdbc5000f70d27840b9ea3342abf7ef0093b1dcda8062c3b12392418e"
  },
  "kernelspec": {
   "display_name": "Python 3.9.13 64-bit",
   "language": "python",
   "name": "python3"
  },
  "language_info": {
   "codemirror_mode": {
    "name": "ipython",
    "version": 3
   },
   "file_extension": ".py",
   "mimetype": "text/x-python",
   "name": "python",
   "nbconvert_exporter": "python",
   "pygments_lexer": "ipython3",
   "version": "3.9.13"
  }
 },
 "nbformat": 4,
 "nbformat_minor": 1
}
