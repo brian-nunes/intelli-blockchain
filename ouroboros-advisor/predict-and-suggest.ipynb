{
 "cells": [
  {
   "cell_type": "code",
   "execution_count": 31,
   "metadata": {},
   "outputs": [],
   "source": [
    "from tensorflow.keras.models import Sequential, model_from_json\n",
    "import numpy as np\n",
    "import json"
   ]
  },
  {
   "cell_type": "code",
   "execution_count": 32,
   "metadata": {},
   "outputs": [],
   "source": [
    "def normalize_dict(d):\n",
    "    # Find the maximum value in the dictionary\n",
    "    max_value = max(d.values())\n",
    "\n",
    "    # If the maximum value is 0 or negative, return the input dictionary as is\n",
    "    if max_value <= 0:\n",
    "        return d\n",
    "\n",
    "    # Normalize the values such that the maximum value becomes 1\n",
    "    normalized = {k: max(v, 0) / max_value for k, v in d.items()}\n",
    "\n",
    "    return normalized"
   ]
  },
  {
   "cell_type": "code",
   "execution_count": 33,
   "metadata": {},
   "outputs": [
    {
     "name": "stdout",
     "output_type": "stream",
     "text": [
      "<keras.engine.sequential.Sequential object at 0x00000213FDD30100>\n",
      "1/1 [==============================] - 0s 238ms/step\n",
      "<keras.engine.sequential.Sequential object at 0x00000213FF847C70>\n",
      "1/1 [==============================] - 0s 272ms/step\n",
      "<keras.engine.sequential.Sequential object at 0x00000213FF759B50>\n",
      "1/1 [==============================] - 0s 241ms/step\n",
      "<keras.engine.sequential.Sequential object at 0x00000213FEE805B0>\n",
      "1/1 [==============================] - 0s 236ms/step\n"
     ]
    }
   ],
   "source": [
    "list_of_cryptos = [\"EOS\", \"BTC\", \"ETH\", \"DOGE\"]\n",
    "crypto_dict = {}\n",
    "for crypto in list_of_cryptos:\n",
    "    json_file = open(f'model-{crypto}-USD.json', 'r')\n",
    "    loaded_model_json = json_file.read()\n",
    "    json_file.close()\n",
    "    loaded_model = model_from_json(loaded_model_json)\n",
    "    loaded_model.load_weights(f\"model-{crypto}-USD.h5\")\n",
    "\n",
    "    print(loaded_model)\n",
    "\n",
    "    x_pred = np.load(f'input/x-pred-{crypto}-USD.npy')\n",
    "\n",
    "    pred = loaded_model.predict(x_pred)\n",
    "\n",
    "    crypto_dict[crypto] = (pred[-1] - pred[0])[0]"
   ]
  },
  {
   "cell_type": "code",
   "execution_count": 34,
   "metadata": {},
   "outputs": [
    {
     "name": "stdout",
     "output_type": "stream",
     "text": [
      "{'EOS': -0.16178808956262455, 'BTC': 0.1492039484845261, 'ETH': 1.307301475937305, 'DOGE': -0.2947173348592066}\n"
     ]
    }
   ],
   "source": [
    "suggestions_dict = normalize_dict(crypto_dict)\n",
    "with open(\"crypto-suggestions.txt\", \"w\") as fp:\n",
    "    json.dump(suggestions_dict, fp)\n",
    "print(suggestions_dict)"
   ]
  },
  {
   "cell_type": "code",
   "execution_count": null,
   "metadata": {},
   "outputs": [],
   "source": []
  }
 ],
 "metadata": {
  "interpreter": {
   "hash": "c5e1398cdbc5000f70d27840b9ea3342abf7ef0093b1dcda8062c3b12392418e"
  },
  "kernelspec": {
   "display_name": "Python 3.9.13 64-bit",
   "language": "python",
   "name": "python3"
  },
  "language_info": {
   "codemirror_mode": {
    "name": "ipython",
    "version": 3
   },
   "file_extension": ".py",
   "mimetype": "text/x-python",
   "name": "python",
   "nbconvert_exporter": "python",
   "pygments_lexer": "ipython3",
   "version": "3.9.13"
  },
  "orig_nbformat": 4
 },
 "nbformat": 4,
 "nbformat_minor": 2
}
